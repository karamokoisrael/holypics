{
 "cells": [
  {
   "cell_type": "code",
   "execution_count": null,
   "metadata": {},
   "outputs": [],
   "source": [
    "def compute_predictions_increment(predictions, class_name, total_score, total_count):\n",
    "    if class_name in [\"nudity\", \"general_nsfw\"]:\n",
    "        total_score+=predictions[class_name]\n",
    "        total_count+=1\n",
    "    return total_score, total_count\n",
    "\n",
    "def compute_predictions(predictions, total_score, total_count):\n",
    "    predictions[\"sex_intent\"] = total_score / total_count\n",
    "    predictions[\"normal\"] = 1 - predictions[\"sex_intent\"]\n",
    "    return predictions"
   ]
  },
  {
   "cell_type": "code",
   "execution_count": 60,
   "metadata": {},
   "outputs": [
    {
     "name": "stdout",
     "output_type": "stream",
     "text": [
      "{'id': 29, 'status': 'published', 'sort': None, 'user_created': 'a7336fc3-b951-4601-b220-f07a571e6264', 'date_created': '2022-04-21T15:33:42', 'user_updated': None, 'date_updated': None, 'rating': 0, 'comment': '', 'dataset_id': '5710a157-6e60-4818-a749-c577c85d8164', 'prediction_data': 'female_underwear: 96.94% <br />female_nudity: 95.16% <br />female_swimwear: 98.59% <br />male_shirtless: 60.75% <br />general_nsfw: 64.66% <br />', 'image_url': 'https://images.unsplash.com/photo-1529171109936-dd3412229df6?crop=entropy&cs=tinysrgb&fit=max&fm=jpg&ixid=MnwxfDB8MXxyYW5kb218MHw4OTA5NTYwfHx8fHx8fDE2NTA1NTUxMjI&ixlib=rb-1.2.1&q=80&utm_campaign=api-credit&utm_medium=referral&utm_source=unsplash_source&w=1080', 'seen': False, 'class_name': None}\n"
     ]
    }
   ],
   "source": [
    "import requests\n",
    "import os\n",
    "import uuid\n",
    "import json\n",
    "import shutil\n",
    "DATASET_API_ACCESS_TOKEN = \"ZWbw9GYgHG616YljqLtfDK9FPwZ\"\n",
    "try:\n",
    "    dataset_api_url = \"https://4tro8cx1.directus.app/items/feedbacks?access_token={0}&filter[seen][_eq]=0\"\n",
    "    r = requests.get(dataset_api_url.format(DATASET_API_ACCESS_TOKEN))\n",
    "    r_json = r.json()[\"data\"]\n",
    "    path_name = \"uploads/{}\".format(str(uuid.uuid1()))\n",
    "    os.mkdir(path_name)\n",
    "    for feedback in r_json:\n",
    "        print(feedback)\n",
    "        r = requests.get(feedback[\"image_url\"], allow_redirects=True)\n",
    "        file_name = \"{0}/{1}.jpg\".format(path_name, str(uuid.uuid1()) )\n",
    "        open(file_name, 'wb').write(r.content)\n",
    "        updated = {\"seen\": 1}\n",
    "        headers = {\"Content-Type\": \"application/json\", \"Authorization\": \"Bearer {}\".format(DATASET_API_ACCESS_TOKEN)}\n",
    "        req_url = \"https://4tro8cx1.directus.app/items/feedbacks/{}\"\n",
    "        r = requests.patch(req_url.format(feedback[\"id\"]), data=json.dumps(updated), headers=headers)\n",
    "        break\n",
    "    send_file(path, as_attachment=True)\n",
    "    shutil.make_archive(path_name+\".zip\", 'zip', path_name)\n",
    "    shutil.rmtree(path_name)\n",
    "except Exception as wrong:\n",
    "    print(wrong)\n",
    "    pass\n",
    "    "
   ]
  },
  {
   "cell_type": "code",
   "execution_count": null,
   "metadata": {},
   "outputs": [],
   "source": []
  },
  {
   "cell_type": "code",
   "execution_count": null,
   "metadata": {},
   "outputs": [],
   "source": []
  }
 ],
 "metadata": {
  "interpreter": {
   "hash": "ccde67e4faa8fac03f67c61d4d2d25acf63db2b953068fc2e967f42f8fdbc53b"
  },
  "kernelspec": {
   "display_name": "Python 3.9.6 ('holypics-SxDLhKSZ')",
   "language": "python",
   "name": "python3"
  },
  "language_info": {
   "codemirror_mode": {
    "name": "ipython",
    "version": 3
   },
   "file_extension": ".py",
   "mimetype": "text/x-python",
   "name": "python",
   "nbconvert_exporter": "python",
   "pygments_lexer": "ipython3",
   "version": "3.9.6"
  },
  "orig_nbformat": 4
 },
 "nbformat": 4,
 "nbformat_minor": 2
}
