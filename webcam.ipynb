{
 "cells": [
  {
   "cell_type": "markdown",
   "metadata": {},
   "source": [
    "# Displaying webcam video in IPython notebook at (relatively) high framerate"
   ]
  },
  {
   "cell_type": "markdown",
   "metadata": {},
   "source": [
    "When working on my project I realized, I can use OpenCV in Python to grap image from webcam as Numpy array, modify it and then display it using OpenCV's **cv2.imshow()**. OpenCV will create a window and push my frame there. However, this will not work in a IPython notebook. I found few solutions to implement the same functionality, but they all were slow (about 250 ms per frame).\n",
    "\n",
    "Here, I combine and modify these two examples to get achieve about 5 times higher framerate:\n",
    "1. __[Showing webcame image using OpenCV and matplotlib](https://gist.github.com/tibaes/35b9dbd7cbf81a98955067aa318290e7#file-video)__. Important moment here is that previous frame is cleared from screen using **IPython.display.clear_output()**\n",
    "2. __[Minimal code for rendering a numpy array as an image in a Jupyter notebook in memory](https://gist.github.com/kylemcdonald/2f1b9a255993bf9b2629)__. It uses PIL to convert NumPy array to .PNG format in order to display it with **IPython.display.display()**\n",
    "\n",
    "Both are relatively slow. The slowest step in the first one is the __[matplotlib.pyplot.imshow()](https://matplotlib.org/api/_as_gen/matplotlib.pyplot.imshow.html)__ and the second one spend most of the time converting array data to PNG in __[PIL.Image.save()](https://pillow.readthedocs.io/en/3.1.x/reference/Image.html#PIL.Image.Image.save)__.\n",
    "\n",
    "But converting to PNG is not the fastest and only give me 2-3 FPS. If I use JPEG instead, framerate goes up to 36 FPS, which is not bad."
   ]
  },
  {
   "cell_type": "code",
   "execution_count": 1,
   "metadata": {},
   "outputs": [],
   "source": [
    "# Import the required modules\n",
    "import cv2\n",
    "import time\n",
    "import numpy as np\n",
    "import PIL.Image\n",
    "from io import BytesIO\n",
    "import IPython.display\n",
    "import ipywidgets as widgets\n",
    "import threading"
   ]
  },
  {
   "cell_type": "code",
   "execution_count": 2,
   "metadata": {},
   "outputs": [
    {
     "data": {
      "application/javascript": [
       "IPython.OutputArea.prototype._should_scroll = function(lines) {\n",
       "    return false;\n",
       "}\n"
      ],
      "text/plain": [
       "<IPython.core.display.Javascript object>"
      ]
     },
     "metadata": {},
     "output_type": "display_data"
    }
   ],
   "source": [
    "%%javascript\n",
    "IPython.OutputArea.prototype._should_scroll = function(lines) {\n",
    "    return false;\n",
    "}"
   ]
  },
  {
   "cell_type": "code",
   "execution_count": 3,
   "metadata": {},
   "outputs": [],
   "source": [
    "#Use 'jpeg' instead of 'png' (~5 times faster)\n",
    "def showarray(a, prev_display_id=None, fmt='jpeg'):\n",
    "    f = BytesIO()\n",
    "    PIL.Image.fromarray(a).save(f, fmt)\n",
    "    obj = IPython.display.Image(data=f.getvalue())\n",
    "    if prev_display_id is not None:\n",
    "        IPython.display.update_display(obj, display_id=prev_display_id)\n",
    "        return prev_display_id\n",
    "    else:\n",
    "        return IPython.display.display(obj, display_id=True)"
   ]
  },
  {
   "cell_type": "code",
   "execution_count": 4,
   "metadata": {},
   "outputs": [],
   "source": [
    "def get_frame(cam):\n",
    "    # Capture frame-by-frame\n",
    "    ret, frame = cam.read()\n",
    "    \n",
    "    #flip image for natural viewing\n",
    "#     frame = cv2.flip(frame, 1)\n",
    "    \n",
    "    return frame"
   ]
  },
  {
   "cell_type": "code",
   "execution_count": 5,
   "metadata": {},
   "outputs": [],
   "source": [
    "cameras = []\n",
    "\n",
    "def init_cameras():\n",
    "    \n",
    "    for usb_camera in usb_cameras:\n",
    "\n",
    "        cam = cv2.VideoCapture(usb_camera.get('path'))\n",
    "\n",
    "#         cam.set(cv2.CAP_PROP_FRAME_WIDTH, 1280)\n",
    "#         cam.set(cv2.CAP_PROP_FRAME_HEIGHT, 720)\n",
    "    \n",
    "        cam.set(cv2.CAP_PROP_FRAME_WIDTH, 1920)\n",
    "        cam.set(cv2.CAP_PROP_FRAME_HEIGHT, 1080)\n",
    "        \n",
    "#         cam.set(cv2.CAP_PROP_FRAME_WIDTH, 1920)\n",
    "#         cam.set(cv2.CAP_PROP_FRAME_HEIGHT, 1080)\n",
    "\n",
    "#         cam.set(cv2.CAP_PROP_FRAME_WIDTH, 1920)\n",
    "#         cam.set(cv2.CAP_PROP_FRAME_HEIGHT, 1080)\n",
    "\n",
    "\n",
    "    #     cam.set(cv2.CAP_PROP_AUTO_EXPOSURE, 0.25) #ref: https://github.com/opencv/opencv/issues/9738#issuecomment-346584044\n",
    "    #     cam.set(cv2.CAP_PROP_EXPOSURE, 0.01)\n",
    "    #     cam.set(cv2.CAP_PROP_AUTO_EXPOSURE, 0)\n",
    "    #     cam.set(cv2.CAP_PROP_EXPOSURE, -4.0)\n",
    "\n",
    "        cameras.append({\n",
    "            \"name\": usb_camera.get('name'),\n",
    "            'cam': cam,\n",
    "            'display_id': None,\n",
    "            \"offset\":  usb_camera.get('offset'),\n",
    "        })\n",
    "        \n",
    "def stop_cameras():      \n",
    "    for camera in cameras:\n",
    "        cam = camera.get('cam')\n",
    "        if(cam):\n",
    "            cam.release()\n",
    "        \n",
    "def test_cams(usb_cameras):\n",
    "    for usb_camera in usb_cameras:\n",
    "#         print(index)\n",
    "        cap = cv2.VideoCapture()\n",
    "        cap.open(usb_camera.get('path'))\n",
    "        if cap.isOpened():\n",
    "            print(\"active: \", usb_camera.get('path'))\n",
    "        else:\n",
    "            print(\"inactive: \", usb_camera.get('path'))\n",
    "        cap.release()"
   ]
  },
  {
   "cell_type": "code",
   "execution_count": 6,
   "metadata": {},
   "outputs": [
    {
     "name": "stdout",
     "output_type": "stream",
     "text": [
      "[{'path': '/dev/zuppacamera3', 'name': 'zuppacamera3', 'offset': 0.56}, {'path': '/dev/zuppacamera2', 'name': 'zuppacamera2', 'offset': 0.44}, {'path': '/dev/zuppacamera1', 'name': 'zuppacamera1', 'offset': 0.46}, {'path': '/dev/zuppacamera5', 'name': 'zuppacamera0', 'offset': 0.54}]\n",
      "active:  /dev/zuppacamera3\n",
      "active:  /dev/zuppacamera2\n",
      "active:  /dev/zuppacamera1\n",
      "active:  /dev/zuppacamera5\n"
     ]
    }
   ],
   "source": [
    "usb_cameras = [\n",
    "#     {\n",
    "#         \"path\": \"/dev/zuppacamera5\",\n",
    "#         \"name\": \"zuppacamera5\",\n",
    "#         \"offset\": 0.56,\n",
    "#     },\n",
    "#     {\n",
    "#         \"path\": \"/dev/zuppacamera4\",\n",
    "#         \"name\": \"zuppacamera4\",\n",
    "#         \"offset\": 0.45,\n",
    "#     },\n",
    "    {\n",
    "        \"path\": \"/dev/zuppacamera3\",\n",
    "        \"name\": \"zuppacamera3\",\n",
    "        \"offset\": 0.56,\n",
    "    },\n",
    "    {\n",
    "        \"path\": \"/dev/zuppacamera2\",\n",
    "        \"name\": \"zuppacamera2\",\n",
    "        \"offset\": 0.44,\n",
    "    },\n",
    "    {\n",
    "        \"path\": \"/dev/zuppacamera1\",\n",
    "        \"name\": \"zuppacamera1\",\n",
    "        \"offset\": 0.46,\n",
    "    },\n",
    "    {\n",
    "#         \"path\": \"/dev/zuppacamera0\", #cannot use zuppacamera0 due to bandwidth issue with zuppacamera1\n",
    "        \"path\": \"/dev/zuppacamera5\",\n",
    "        \"name\": \"zuppacamera0\",\n",
    "        \"offset\": 0.54,\n",
    "    },\n",
    "]\n",
    "\n",
    "print(usb_cameras)\n",
    "test_cams(usb_cameras)"
   ]
  },
  {
   "cell_type": "code",
   "execution_count": 7,
   "metadata": {},
   "outputs": [],
   "source": [
    "stop_cameras()\n",
    "init_cameras()"
   ]
  },
  {
   "cell_type": "code",
   "execution_count": 8,
   "metadata": {
    "scrolled": false
   },
   "outputs": [
    {
     "data": {
      "application/vnd.jupyter.widget-view+json": {
       "model_id": "63dd49d2ad32479e9f350b0699d2f52d",
       "version_major": 2,
       "version_minor": 0
      },
      "text/plain": [
       "Button(description='Capture All', style=ButtonStyle())"
      ]
     },
     "metadata": {},
     "output_type": "display_data"
    },
    {
     "data": {
      "application/vnd.jupyter.widget-view+json": {
       "model_id": "ff121e0209a64d17900a126725454e9b",
       "version_major": 2,
       "version_minor": 0
      },
      "text/plain": [
       "Output()"
      ]
     },
     "metadata": {},
     "output_type": "display_data"
    }
   ],
   "source": [
    "from datetime import datetime\n",
    "import os\n",
    "\n",
    "button = widgets.Button(description=\"Capture All\")\n",
    "button_output = widgets.Output()\n",
    "\n",
    "display(button, button_output)\n",
    "\n",
    "main_dir = './captured'\n",
    "sub_dir = '/tests'\n",
    "final_dir = main_dir+sub_dir\n",
    "\n",
    "if not os.path.exists(final_dir):\n",
    "    os.makedirs(final_dir)\n",
    "\n",
    "def on_button_clicked(b):\n",
    "    with button_output:\n",
    "        \n",
    "#         print(\"Capturing...\")\n",
    "#         IPython.display.clear_output(wait=True)\n",
    "\n",
    "        datetime_str = datetime.today().strftime('%Y-%m-%d_%H:%M:%S')\n",
    "    \n",
    "        for camera_num, camera in enumerate(cameras):\n",
    "\n",
    "            name = camera.get('name')\n",
    "            cam = camera.get('cam')\n",
    "            for x in range(10): #lame way to clear image buffer\n",
    "                frame = get_frame(cam)\n",
    "\n",
    "            #crop start\n",
    "            offset = camera.get('offset')\n",
    "            image = frame\n",
    "            width = image.shape[1]\n",
    "            height = image.shape[0]\n",
    "#             print('width', width)\n",
    "#             print('height', height)\n",
    "#             print('offset', offset)\n",
    "\n",
    "            y_half = int((height-1)*offset) #cut of 50% of from top\n",
    "\n",
    "            image_areas = []\n",
    "\n",
    "            # top half\n",
    "            image_areas.append({\n",
    "                \"name\": \"t\",\n",
    "                \"y1\": 0,\n",
    "                \"y2\": y_half,\n",
    "                \"x1\": 0,\n",
    "                \"x2\": width-1,\n",
    "                \"rotate\": True,\n",
    "            })\n",
    "\n",
    "            # bottom half\n",
    "            image_areas.append({\n",
    "                \"name\": \"b\",\n",
    "                \"y1\": y_half,\n",
    "                \"y2\": height,\n",
    "                \"x1\": 0,\n",
    "                \"x2\": width-1,\n",
    "                \"rotate\": False,\n",
    "            })\n",
    "\n",
    "\n",
    "            for image_area in image_areas:\n",
    "\n",
    "                image_crop = image[image_area.get('y1'):image_area.get('y2'), image_area.get('x1'):image_area.get('x2')]\n",
    "\n",
    "                save_image = image_crop\n",
    "                \n",
    "                ENABLE_ROTATE = False\n",
    "                ENABLE_ROTATE = True\n",
    "                \n",
    "                if(ENABLE_ROTATE and image_area.get('rotate') is True):\n",
    "                    #ref: https://www.tutorialkart.com/opencv/python/opencv-python-rotate-image/\n",
    "                    (h, w) = image_crop.shape[:2]\n",
    "                    # calculate the center of the image\n",
    "                    center = (w / 2, h / 2)\n",
    "\n",
    "                    M = cv2.getRotationMatrix2D(center, 180, 1.0)\n",
    "                    save_image = cv2.warpAffine(image_crop, M, (w, h))\n",
    "\n",
    "                final_name = datetime_str+'_camera_'+str(name)+'_'+image_area.get('name')+'.jpg'\n",
    "                cv2.imwrite(final_dir + '/' + final_name, save_image) #need to create folder called captures first!\n",
    "\n",
    "                image_crop = cv2.cvtColor(image_crop, cv2.COLOR_BGR2RGB)\n",
    "                showarray(image_crop)\n",
    "            \n",
    "        print(\"Done\")\n",
    "\n",
    "        IPython.display.clear_output(wait=True)\n",
    "        \n",
    "\n",
    "button.on_click(on_button_clicked)"
   ]
  },
  {
   "cell_type": "code",
   "execution_count": 9,
   "metadata": {},
   "outputs": [],
   "source": [
    "\n",
    "# stop_cameras()        \n",
    "    \n",
    "# print (\"Stream stopped\")"
   ]
  },
  {
   "cell_type": "code",
   "execution_count": null,
   "metadata": {},
   "outputs": [],
   "source": []
  }
 ],
 "metadata": {
  "kernelspec": {
   "display_name": "Python 3",
   "language": "python",
   "name": "python3"
  },
  "language_info": {
   "codemirror_mode": {
    "name": "ipython",
    "version": 3
   },
   "file_extension": ".py",
   "mimetype": "text/x-python",
   "name": "python",
   "nbconvert_exporter": "python",
   "pygments_lexer": "ipython3",
   "version": "3.6.9"
  }
 },
 "nbformat": 4,
 "nbformat_minor": 2
}
